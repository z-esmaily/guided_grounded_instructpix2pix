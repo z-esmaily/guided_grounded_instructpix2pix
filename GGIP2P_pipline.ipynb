{
 "cells": [
  {
   "cell_type": "code",
   "execution_count": null,
   "id": "zLvYmHxn5fq1",
   "metadata": {
    "colab": {
     "base_uri": "https://localhost:8080/"
    },
    "executionInfo": {
     "elapsed": 4940,
     "status": "ok",
     "timestamp": 1753821861472,
     "user": {
      "displayName": "GIP2P TDMP",
      "userId": "06380432153516355618"
     },
     "user_tz": -210
    },
    "id": "zLvYmHxn5fq1",
    "outputId": "ccd3d139-8deb-45d5-8667-d60576c5a667"
   },
   "outputs": [],
   "source": [
    "from google.colab import drive\n",
    "drive.mount('/content/drive')"
   ]
  },
  {
   "cell_type": "code",
   "execution_count": null,
   "id": "LKAOkAfQ5Qoq",
   "metadata": {
    "colab": {
     "base_uri": "https://localhost:8080/"
    },
    "executionInfo": {
     "elapsed": 37,
     "status": "ok",
     "timestamp": 1753821865283,
     "user": {
      "displayName": "GIP2P TDMP",
      "userId": "06380432153516355618"
     },
     "user_tz": -210
    },
    "id": "LKAOkAfQ5Qoq",
    "outputId": "a687a570-b2e7-4741-a944-0aafd8369e2d"
   },
   "outputs": [],
   "source": [
    "%cd '/content/drive/MyDrive/guided_grounded_instructpix2pix/'"
   ]
  },
  {
   "cell_type": "code",
   "execution_count": null,
   "id": "tII4PjmebccI",
   "metadata": {
    "colab": {
     "base_uri": "https://localhost:8080/"
    },
    "collapsed": true,
    "executionInfo": {
     "elapsed": 38433,
     "status": "ok",
     "timestamp": 1753821905718,
     "user": {
      "displayName": "GIP2P TDMP",
      "userId": "06380432153516355618"
     },
     "user_tz": -210
    },
    "id": "tII4PjmebccI",
    "outputId": "179d764c-18aa-4a15-d28e-e60166415a0f"
   },
   "outputs": [],
   "source": [
    "!python -m pip install -e GroundingDINO"
   ]
  },
  {
   "cell_type": "code",
   "execution_count": null,
   "id": "zxkgrB8_-F7K",
   "metadata": {
    "colab": {
     "base_uri": "https://localhost:8080/"
    },
    "collapsed": true,
    "executionInfo": {
     "elapsed": 15674,
     "status": "ok",
     "timestamp": 1753821921399,
     "user": {
      "displayName": "GIP2P TDMP",
      "userId": "06380432153516355618"
     },
     "user_tz": -210
    },
    "id": "zxkgrB8_-F7K",
    "outputId": "042eff2f-7d7b-4ae1-ea10-865ffa5985a4"
   },
   "outputs": [],
   "source": [
    "!python -m spacy download en_core_web_sm"
   ]
  },
  {
   "cell_type": "code",
   "execution_count": null,
   "id": "jv15odSBak7T",
   "metadata": {
    "colab": {
     "base_uri": "https://localhost:8080/"
    },
    "collapsed": true,
    "executionInfo": {
     "elapsed": 15497,
     "status": "ok",
     "timestamp": 1753821936929,
     "user": {
      "displayName": "GIP2P TDMP",
      "userId": "06380432153516355618"
     },
     "user_tz": -210
    },
    "id": "jv15odSBak7T",
    "outputId": "830fb628-4bdf-4b91-d162-2cc4a6e505d1"
   },
   "outputs": [],
   "source": [
    "!pip install diffusers transformers accelerate scipy safetensors"
   ]
  },
  {
   "cell_type": "code",
   "execution_count": null,
   "id": "8KkUZ6z26Jzy",
   "metadata": {
    "colab": {
     "base_uri": "https://localhost:8080/"
    },
    "collapsed": true,
    "executionInfo": {
     "elapsed": 11332,
     "status": "ok",
     "timestamp": 1753821948270,
     "user": {
      "displayName": "GIP2P TDMP",
      "userId": "06380432153516355618"
     },
     "user_tz": -210
    },
    "id": "8KkUZ6z26Jzy",
    "outputId": "ddfc5436-a161-4b63-8f91-e2bcf29b18de"
   },
   "outputs": [],
   "source": [
    "!pip install segment-anything"
   ]
  },
  {
   "cell_type": "code",
   "execution_count": null,
   "id": "AZQ1f4GEy8A5",
   "metadata": {
    "colab": {
     "base_uri": "https://localhost:8080/"
    },
    "collapsed": true,
    "executionInfo": {
     "elapsed": 5552,
     "status": "ok",
     "timestamp": 1753821954332,
     "user": {
      "displayName": "GIP2P TDMP",
      "userId": "06380432153516355618"
     },
     "user_tz": -210
    },
    "id": "AZQ1f4GEy8A5",
    "outputId": "6e15d7b9-8ac2-44a7-e8d2-b41962aa5de6"
   },
   "outputs": [],
   "source": [
    "!pip install torchmetrics"
   ]
  },
  {
   "cell_type": "code",
   "execution_count": null,
   "id": "-KnM3y4EIicx",
   "metadata": {
    "colab": {
     "base_uri": "https://localhost:8080/"
    },
    "collapsed": true,
    "executionInfo": {
     "elapsed": 12682,
     "status": "ok",
     "timestamp": 1753821967644,
     "user": {
      "displayName": "GIP2P TDMP",
      "userId": "06380432153516355618"
     },
     "user_tz": -210
    },
    "id": "-KnM3y4EIicx",
    "outputId": "1f5b9f4a-f08c-4e3f-81d6-38b9c01d7481"
   },
   "outputs": [],
   "source": [
    "!pip install git+https://github.com/openai/CLIP.git"
   ]
  },
  {
   "cell_type": "code",
   "execution_count": null,
   "id": "0R8TZ7Jef6fF",
   "metadata": {
    "colab": {
     "base_uri": "https://localhost:8080/"
    },
    "collapsed": true,
    "executionInfo": {
     "elapsed": 12809,
     "status": "ok",
     "timestamp": 1753821993262,
     "user": {
      "displayName": "GIP2P TDMP",
      "userId": "06380432153516355618"
     },
     "user_tz": -210
    },
    "id": "0R8TZ7Jef6fF",
    "outputId": "f3042f4e-28de-4c20-d530-83c39dc43174"
   },
   "outputs": [],
   "source": [
    "!pip install transformers torch peft tqdm numpy scikit-learn"
   ]
  },
  {
   "cell_type": "code",
   "execution_count": null,
   "id": "jkUMRWAfvHcX",
   "metadata": {
    "id": "jkUMRWAfvHcX"
   },
   "outputs": [],
   "source": [
    "import os, sys\n",
    "sys.path.append(os.path.join(os.getcwd(), \"GroundingDINO\"))"
   ]
  },
  {
   "cell_type": "code",
   "execution_count": null,
   "id": "3TxrwRpmvO0i",
   "metadata": {
    "id": "3TxrwRpmvO0i"
   },
   "outputs": [],
   "source": [
    "os.environ[\"CUDA_VISIBLE_DEVICES\"] = \"0\""
   ]
  },
  {
   "cell_type": "code",
   "execution_count": null,
   "id": "qlXGQRhSybwA",
   "metadata": {
    "id": "qlXGQRhSybwA"
   },
   "outputs": [],
   "source": [
    "!cd GroundingDINO"
   ]
  },
  {
   "cell_type": "code",
   "execution_count": null,
   "id": "8d3c0aa2",
   "metadata": {
    "colab": {
     "base_uri": "https://localhost:8080/"
    },
    "executionInfo": {
     "elapsed": 67099,
     "status": "ok",
     "timestamp": 1753822060368,
     "user": {
      "displayName": "GIP2P TDMP",
      "userId": "06380432153516355618"
     },
     "user_tz": -210
    },
    "id": "8d3c0aa2",
    "outputId": "0a800458-813d-4a01-979a-23b916c1be90"
   },
   "outputs": [
    {
     "name": "stderr",
     "output_type": "stream",
     "text": [
      "/usr/local/lib/python3.11/dist-packages/timm/models/layers/__init__.py:48: FutureWarning: Importing from timm.models.layers is deprecated, please import via timm.layers\n",
      "  warnings.warn(f\"Importing from {__name__} is deprecated, please import via timm.layers\", FutureWarning)\n"
     ]
    }
   ],
   "source": [
    "import math\n",
    "import torch\n",
    "import os\n",
    "from PIL import Image\n",
    "from pathlib import Path\n",
    "\n",
    "from tqdm.notebook import tqdm\n",
    "from PIL import Image, ImageOps\n",
    "import matplotlib.pyplot as plt\n",
    "\n",
    "from diffusers import DDIMScheduler, DDIMInverseScheduler\n",
    "from pipeline_stable_diffusion_grounded_instruct_pix2pix import StableDiffusionInstructPix2PixPipeline\n",
    "\n",
    "from external_mask_extractor_improved import ExternalMaskExtractor\n",
    "from transformers import logging\n",
    "logging.set_verbosity_error()"
   ]
  },
  {
   "cell_type": "code",
   "execution_count": null,
   "id": "f75916d3",
   "metadata": {
    "id": "f75916d3"
   },
   "outputs": [],
   "source": [
    "def load_pil_image(image_path, resolution=512):\n",
    "    image = Image.open(image_path).convert(\"RGB\")\n",
    "    width, height = image.size\n",
    "    factor = resolution / max(width, height)\n",
    "    factor = math.ceil(min(width, height) * factor / 64) * 64 / min(width, height)\n",
    "    width = int((width * factor) // 64) * 64\n",
    "    height = int((height * factor) // 64) * 64\n",
    "    image = ImageOps.fit(image, (width, height), method=Image.Resampling.LANCZOS)\n",
    "    return image"
   ]
  },
  {
   "cell_type": "code",
   "execution_count": null,
   "id": "a2729e40",
   "metadata": {
    "colab": {
     "base_uri": "https://localhost:8080/",
     "height": 190,
     "referenced_widgets": [
      "2bab1cea43e54fbf9ca56726a6614956",
      "c7a6a2a8464742edbe8ed63263f32625",
      "4efc254ea53c4f43862d2510035b0c2a",
      "8ac79bb78edc49e0a8ef6cdf6cff48f9",
      "523d4fdd7bc8461da251146a9e24f771",
      "83422542d5404af59144c45a207d227f",
      "c0ffb23d512645feb10ddb32f2c42da3",
      "b7e0afd9762346af840cc680eec30dd3",
      "bbe8a407ac40422984077a6934a51f4d",
      "8192981e22b4464ba06e5fc412d7f57a",
      "d5e8678c0683468ab924e5c19a4b5cd2"
     ]
    },
    "executionInfo": {
     "elapsed": 28778,
     "status": "ok",
     "timestamp": 1753822090798,
     "user": {
      "displayName": "GIP2P TDMP",
      "userId": "06380432153516355618"
     },
     "user_tz": -210
    },
    "id": "a2729e40",
    "outputId": "06f1ee66-aaae-4230-9144-99e13ee68155"
   },
   "outputs": [],
   "source": [
    "device = 'cuda:0'\n",
    "\n",
    "# pipeline\n",
    "num_timesteps = 100\n",
    "pipeline = StableDiffusionInstructPix2PixPipeline.from_pretrained(\"timbrooks/instruct-pix2pix\",\n",
    "                                                                  torch_dtype=torch.float16,\n",
    "                                                                  safety_checker=None).to(device)\n",
    "pipeline.inverse_scheduler = DDIMInverseScheduler.from_config(pipeline.scheduler.config, set_alpha_to_zero=False)\n",
    "\n",
    "pipeline.scheduler.set_timesteps(num_timesteps)\n",
    "pipeline.inverse_scheduler.set_timesteps(num_timesteps)"
   ]
  },
  {
   "cell_type": "code",
   "execution_count": null,
   "id": "oy5ax2Xcm-rJ",
   "metadata": {
    "colab": {
     "base_uri": "https://localhost:8080/"
    },
    "executionInfo": {
     "elapsed": 64914,
     "status": "ok",
     "timestamp": 1753822155715,
     "user": {
      "displayName": "GIP2P TDMP",
      "userId": "06380432153516355618"
     },
     "user_tz": -210
    },
    "id": "oy5ax2Xcm-rJ",
    "outputId": "9be619fc-0c80-4288-e4ba-158440a3aa3b"
   },
   "outputs": [],
   "source": [
    "torch.cuda.empty_cache()\n",
    "os.environ['PYTORCH_CUDA_ALLOC_CONF'] = 'expandable_segments:True'\n",
    "\n",
    "# extractor = ExternalMaskExtractor(device=device)\n",
    "\n",
    "# Define model paths here\n",
    "SAM_PATH = '/content/drive/MyDrive/SAM/sam_vit_h_4b8939.pth'\n",
    "TARGET_PREDICTOR_PATH = \"/content/drive/MyDrive/guided_grounded_instructpix2pix/models/target_finder_bert_lora_model\"\n",
    "SIZE_PREDICTOR_PATHS = [\"/content/drive/MyDrive/guided_grounded_instructpix2pix/models/size_predictor_models/standardSmoothL1_model.pth\",\n",
    "                        \"/content/drive/MyDrive/guided_grounded_instructpix2pix/models/size_predictor_models/CombLoss_model.pth\"]\n",
    "\n",
    "device = 'cuda:0'\n",
    "extractor = ExternalMaskExtractor(\n",
    "    device=device,\n",
    "    target_predictor_model_path=TARGET_PREDICTOR_PATH,\n",
    "    size_predictor_model_path=SIZE_PREDICTOR_PATHS,\n",
    "    sam_path=SAM_PATH\n",
    ")\n",
    "\n",
    "def inference(pipeline, image_pil, instruction, image_guidance_scale, text_guidance_scale, seed, blending_range):\n",
    "    final_mask, first_target_phrase, second_target_phrase, directional_phrase, final_sentence, predicted_size_mask = extractor.get_external_mask(image_pil, instruction, verbose=True)\n",
    "\n",
    "    inv_results = pipeline.invert(final_sentence, image_pil, num_inference_steps=num_timesteps, inv_range=blending_range)\n",
    "    generator = torch.Generator(device).manual_seed(seed) if seed is not None else torch.Generator(device)\n",
    "    edited_image = pipeline(final_sentence, src_mask=final_mask, image=image_pil,\n",
    "                            guidance_scale=text_guidance_scale, image_guidance_scale=image_guidance_scale,\n",
    "                            num_inference_steps=num_timesteps, generator=generator).images[0]\n",
    "    return edited_image, final_mask, predicted_size_mask"
   ]
  },
  {
   "cell_type": "code",
   "execution_count": null,
   "id": "fb6d7631",
   "metadata": {
    "id": "fb6d7631"
   },
   "outputs": [],
   "source": [
    "verbose = False\n",
    "\n",
    "def edit_image(\n",
    "    pipeline,\n",
    "    image_path,\n",
    "    edit_instruction,\n",
    "    image_guidance_scale=1.5,\n",
    "    guidance_scale=7.5,\n",
    "    seed=42,\n",
    "    start_blending_at_tstep=1000,\n",
    "    end_blending_at_tstep=1,\n",
    "    verbose=False\n",
    "):\n",
    "    blending_range = [start_blending_at_tstep, end_blending_at_tstep]\n",
    "\n",
    "    image = load_pil_image(image_path)\n",
    "\n",
    "    edited_image, final_mask, predicted_size_mask = inference(\n",
    "        pipeline, image, edit_instruction,\n",
    "        image_guidance_scale=image_guidance_scale,\n",
    "        text_guidance_scale=guidance_scale,\n",
    "        seed=seed,\n",
    "        blending_range=blending_range\n",
    "    )\n",
    "\n",
    "##############################################################\n",
    "    # Extract original image filename without extension\n",
    "    original_filename = Path(image_path).stem\n",
    "\n",
    "    # Define output directories\n",
    "    edited_dir = Path('/content/drive/MyDrive/guided_grounded_instructpix2pix/ggip2p_edited_images')\n",
    "    mask_dir = Path('/content/drive/MyDrive/guided_grounded_instructpix2pix/ggip2p_edited_masks')\n",
    "\n",
    "    # Create directories if they don't exist\n",
    "    edited_dir.mkdir(parents=True, exist_ok=True)\n",
    "    mask_dir.mkdir(parents=True, exist_ok=True)\n",
    "\n",
    "    # Save edited image\n",
    "    edited_image_path = edited_dir / f'{original_filename}.jpg'\n",
    "    edited_image.save(edited_image_path)\n",
    "\n",
    "    # Convert masks to PIL Images if needed\n",
    "    if not isinstance(final_mask, Image.Image):\n",
    "        final_mask = Image.fromarray(final_mask.astype('uint8'))\n",
    "    if not isinstance(predicted_size_mask, Image.Image):\n",
    "        predicted_size_mask = Image.fromarray((predicted_size_mask.cpu().numpy() * 255).astype('uint8'))\n",
    "\n",
    "    # Save masks\n",
    "    final_mask_path = mask_dir / f'{original_filename}_final_mask.png'\n",
    "    predicted_size_mask_path = mask_dir / f'{original_filename}_size_mask.png'\n",
    "\n",
    "    final_mask.save(final_mask_path)\n",
    "    predicted_size_mask.save(predicted_size_mask_path)\n",
    "\n",
    "##############################################################\n",
    "\n",
    "    fig, axes = plt.subplots(1, 4, figsize=(15, 5))\n",
    "\n",
    "    axes[0].imshow(image)\n",
    "    axes[0].set_title('Original Image')\n",
    "    axes[0].axis('off')\n",
    "\n",
    "    axes[1].imshow(edited_image)\n",
    "    axes[1].set_title('Edited Image')\n",
    "    axes[1].axis('off')\n",
    "\n",
    "    axes[2].imshow(final_mask)\n",
    "    axes[2].set_title('Final Mask')\n",
    "    axes[2].axis('off')\n",
    "\n",
    "    axes[3].imshow(predicted_size_mask, cmap='gray')\n",
    "    axes[3].set_title('Predicted Size Mask')\n",
    "    axes[3].axis('off')\n",
    "\n",
    "    plt.tight_layout()\n",
    "    plt.show()"
   ]
  },
  {
   "cell_type": "code",
   "execution_count": null,
   "id": "fb49bee3",
   "metadata": {
    "colab": {
     "base_uri": "https://localhost:8080/",
     "height": 848,
     "referenced_widgets": [
      "3f0eceaaf70e458c9349451574ea6376",
      "f292717467f14a2ea8744a8fb0d7e714",
      "affa177a3f714a8d8f75a69d7b495425",
      "7158fef659e8497f941e0e70aafa2582",
      "97b1062d9b814aeca0c103813c0ee689",
      "82a8eff802aa4282880220d9e6839ec7",
      "8b785258cc684d36b4125289cc7f2d81",
      "3860bc5038974107ad7a4e62dd251e7e",
      "b09fe9071e9f438997d097f668c38d9d",
      "c667293ed49c4033af596846d9ed72a2",
      "e0850a656782429e9d375a19884bdad9"
     ]
    },
    "executionInfo": {
     "elapsed": 45335,
     "status": "ok",
     "timestamp": 1753822317218,
     "user": {
      "displayName": "GIP2P TDMP",
      "userId": "06380432153516355618"
     },
     "user_tz": -210
    },
    "id": "fb49bee3",
    "outputId": "2795a036-1620-4fb2-86ca-08c6fe7ae29f"
   },
   "outputs": [],
   "source": [
    "edit_image(\n",
    "    pipeline=pipeline,\n",
    "    image_path = '/content/drive/MyDrive/guided_grounded_instructpix2pix/imgs/some_test_image/lucia-macedo-xXLT52bAzkk-unsplash.jpg',\n",
    "    edit_instruction = 'make the horse on the left side of gray horse to a white horse',\n",
    "    image_guidance_scale=1.5,\n",
    "    guidance_scale=7.5,\n",
    "    seed=42,\n",
    "    start_blending_at_tstep = 100\n",
    ")"
   ]
  },
  {
   "cell_type": "code",
   "execution_count": null,
   "id": "K-wLZXvUzlny",
   "metadata": {
    "colab": {
     "base_uri": "https://localhost:8080/",
     "height": 1000,
     "referenced_widgets": [
      "cecfeef9ebdf4ef198f86477ba3bdbfd",
      "dff52bd4c0904d2fbb78d122141333e2",
      "cc6e42d705b14829afbe8a9b4f1a4dfc",
      "406160a7a51e4b88b1324c56bbd28b6d",
      "f4f682956e5e4d19bc43e590ae634fec",
      "305d5f5cc27847e3b48e276780795e1f",
      "5066d8a0b43149d49c5402be45ad647c",
      "d4f45122882e4118b89c266a90ac1887",
      "7fa1093024d5436e8fe21500ae311faa",
      "bb842a38188841179bf0209e5f0a13fb",
      "9c8b4d61ac184c65b04c596caf6f803b"
     ]
    },
    "executionInfo": {
     "elapsed": 51227,
     "status": "ok",
     "timestamp": 1753822460056,
     "user": {
      "displayName": "GIP2P TDMP",
      "userId": "06380432153516355618"
     },
     "user_tz": -210
    },
    "id": "K-wLZXvUzlny",
    "outputId": "555daa16-306d-4f60-e6fb-28dffbc4adf5"
   },
   "outputs": [],
   "source": [
    "edit_image(\n",
    "    pipeline=pipeline,\n",
    "    image_path = \"/content/drive/MyDrive/guided_grounded_instructpix2pix/imgs/some_test_image/kateryna-hliznitsova-zKvV5yxVHfI-unsplash_big.jpg\",\n",
    "    edit_instruction = \"add a beautiful butterfly on the top of the candle\",\n",
    "    image_guidance_scale=1.5,\n",
    "    guidance_scale=7.5,\n",
    "    seed=42,\n",
    "    start_blending_at_tstep = 1000\n",
    ")"
   ]
  }
 ],
 "metadata": {
  "colab": {
   "provenance": []
  },
  "kernelspec": {
   "display_name": "Python 3",
   "name": "python3"
  },
  "language_info": {
   "codemirror_mode": {
    "name": "ipython",
    "version": 3
   },
   "file_extension": ".py",
   "mimetype": "text/x-python",
   "name": "python",
   "nbconvert_exporter": "python",
   "pygments_lexer": "ipython3",
   "version": "3.9.14"
  },
  "widgets": {
   "application/vnd.jupyter.widget-state+json": {
    "2bab1cea43e54fbf9ca56726a6614956": {
     "model_module": "@jupyter-widgets/controls",
     "model_module_version": "1.5.0",
     "model_name": "HBoxModel",
     "state": {
      "_dom_classes": [],
      "_model_module": "@jupyter-widgets/controls",
      "_model_module_version": "1.5.0",
      "_model_name": "HBoxModel",
      "_view_count": null,
      "_view_module": "@jupyter-widgets/controls",
      "_view_module_version": "1.5.0",
      "_view_name": "HBoxView",
      "box_style": "",
      "children": [
       "IPY_MODEL_c7a6a2a8464742edbe8ed63263f32625",
       "IPY_MODEL_4efc254ea53c4f43862d2510035b0c2a",
       "IPY_MODEL_8ac79bb78edc49e0a8ef6cdf6cff48f9"
      ],
      "layout": "IPY_MODEL_523d4fdd7bc8461da251146a9e24f771"
     }
    },
    "305d5f5cc27847e3b48e276780795e1f": {
     "model_module": "@jupyter-widgets/base",
     "model_module_version": "1.2.0",
     "model_name": "LayoutModel",
     "state": {
      "_model_module": "@jupyter-widgets/base",
      "_model_module_version": "1.2.0",
      "_model_name": "LayoutModel",
      "_view_count": null,
      "_view_module": "@jupyter-widgets/base",
      "_view_module_version": "1.2.0",
      "_view_name": "LayoutView",
      "align_content": null,
      "align_items": null,
      "align_self": null,
      "border": null,
      "bottom": null,
      "display": null,
      "flex": null,
      "flex_flow": null,
      "grid_area": null,
      "grid_auto_columns": null,
      "grid_auto_flow": null,
      "grid_auto_rows": null,
      "grid_column": null,
      "grid_gap": null,
      "grid_row": null,
      "grid_template_areas": null,
      "grid_template_columns": null,
      "grid_template_rows": null,
      "height": null,
      "justify_content": null,
      "justify_items": null,
      "left": null,
      "margin": null,
      "max_height": null,
      "max_width": null,
      "min_height": null,
      "min_width": null,
      "object_fit": null,
      "object_position": null,
      "order": null,
      "overflow": null,
      "overflow_x": null,
      "overflow_y": null,
      "padding": null,
      "right": null,
      "top": null,
      "visibility": null,
      "width": null
     }
    },
    "3860bc5038974107ad7a4e62dd251e7e": {
     "model_module": "@jupyter-widgets/base",
     "model_module_version": "1.2.0",
     "model_name": "LayoutModel",
     "state": {
      "_model_module": "@jupyter-widgets/base",
      "_model_module_version": "1.2.0",
      "_model_name": "LayoutModel",
      "_view_count": null,
      "_view_module": "@jupyter-widgets/base",
      "_view_module_version": "1.2.0",
      "_view_name": "LayoutView",
      "align_content": null,
      "align_items": null,
      "align_self": null,
      "border": null,
      "bottom": null,
      "display": null,
      "flex": null,
      "flex_flow": null,
      "grid_area": null,
      "grid_auto_columns": null,
      "grid_auto_flow": null,
      "grid_auto_rows": null,
      "grid_column": null,
      "grid_gap": null,
      "grid_row": null,
      "grid_template_areas": null,
      "grid_template_columns": null,
      "grid_template_rows": null,
      "height": null,
      "justify_content": null,
      "justify_items": null,
      "left": null,
      "margin": null,
      "max_height": null,
      "max_width": null,
      "min_height": null,
      "min_width": null,
      "object_fit": null,
      "object_position": null,
      "order": null,
      "overflow": null,
      "overflow_x": null,
      "overflow_y": null,
      "padding": null,
      "right": null,
      "top": null,
      "visibility": null,
      "width": null
     }
    },
    "3f0eceaaf70e458c9349451574ea6376": {
     "model_module": "@jupyter-widgets/controls",
     "model_module_version": "1.5.0",
     "model_name": "HBoxModel",
     "state": {
      "_dom_classes": [],
      "_model_module": "@jupyter-widgets/controls",
      "_model_module_version": "1.5.0",
      "_model_name": "HBoxModel",
      "_view_count": null,
      "_view_module": "@jupyter-widgets/controls",
      "_view_module_version": "1.5.0",
      "_view_name": "HBoxView",
      "box_style": "",
      "children": [
       "IPY_MODEL_f292717467f14a2ea8744a8fb0d7e714",
       "IPY_MODEL_affa177a3f714a8d8f75a69d7b495425",
       "IPY_MODEL_7158fef659e8497f941e0e70aafa2582"
      ],
      "layout": "IPY_MODEL_97b1062d9b814aeca0c103813c0ee689"
     }
    },
    "406160a7a51e4b88b1324c56bbd28b6d": {
     "model_module": "@jupyter-widgets/controls",
     "model_module_version": "1.5.0",
     "model_name": "HTMLModel",
     "state": {
      "_dom_classes": [],
      "_model_module": "@jupyter-widgets/controls",
      "_model_module_version": "1.5.0",
      "_model_name": "HTMLModel",
      "_view_count": null,
      "_view_module": "@jupyter-widgets/controls",
      "_view_module_version": "1.5.0",
      "_view_name": "HTMLView",
      "description": "",
      "description_tooltip": null,
      "layout": "IPY_MODEL_bb842a38188841179bf0209e5f0a13fb",
      "placeholder": "​",
      "style": "IPY_MODEL_9c8b4d61ac184c65b04c596caf6f803b",
      "value": " 100/100 [00:17&lt;00:00,  5.89it/s]"
     }
    },
    "4efc254ea53c4f43862d2510035b0c2a": {
     "model_module": "@jupyter-widgets/controls",
     "model_module_version": "1.5.0",
     "model_name": "FloatProgressModel",
     "state": {
      "_dom_classes": [],
      "_model_module": "@jupyter-widgets/controls",
      "_model_module_version": "1.5.0",
      "_model_name": "FloatProgressModel",
      "_view_count": null,
      "_view_module": "@jupyter-widgets/controls",
      "_view_module_version": "1.5.0",
      "_view_name": "ProgressView",
      "bar_style": "success",
      "description": "",
      "description_tooltip": null,
      "layout": "IPY_MODEL_b7e0afd9762346af840cc680eec30dd3",
      "max": 6,
      "min": 0,
      "orientation": "horizontal",
      "style": "IPY_MODEL_bbe8a407ac40422984077a6934a51f4d",
      "value": 6
     }
    },
    "5066d8a0b43149d49c5402be45ad647c": {
     "model_module": "@jupyter-widgets/controls",
     "model_module_version": "1.5.0",
     "model_name": "DescriptionStyleModel",
     "state": {
      "_model_module": "@jupyter-widgets/controls",
      "_model_module_version": "1.5.0",
      "_model_name": "DescriptionStyleModel",
      "_view_count": null,
      "_view_module": "@jupyter-widgets/base",
      "_view_module_version": "1.2.0",
      "_view_name": "StyleView",
      "description_width": ""
     }
    },
    "523d4fdd7bc8461da251146a9e24f771": {
     "model_module": "@jupyter-widgets/base",
     "model_module_version": "1.2.0",
     "model_name": "LayoutModel",
     "state": {
      "_model_module": "@jupyter-widgets/base",
      "_model_module_version": "1.2.0",
      "_model_name": "LayoutModel",
      "_view_count": null,
      "_view_module": "@jupyter-widgets/base",
      "_view_module_version": "1.2.0",
      "_view_name": "LayoutView",
      "align_content": null,
      "align_items": null,
      "align_self": null,
      "border": null,
      "bottom": null,
      "display": null,
      "flex": null,
      "flex_flow": null,
      "grid_area": null,
      "grid_auto_columns": null,
      "grid_auto_flow": null,
      "grid_auto_rows": null,
      "grid_column": null,
      "grid_gap": null,
      "grid_row": null,
      "grid_template_areas": null,
      "grid_template_columns": null,
      "grid_template_rows": null,
      "height": null,
      "justify_content": null,
      "justify_items": null,
      "left": null,
      "margin": null,
      "max_height": null,
      "max_width": null,
      "min_height": null,
      "min_width": null,
      "object_fit": null,
      "object_position": null,
      "order": null,
      "overflow": null,
      "overflow_x": null,
      "overflow_y": null,
      "padding": null,
      "right": null,
      "top": null,
      "visibility": null,
      "width": null
     }
    },
    "7158fef659e8497f941e0e70aafa2582": {
     "model_module": "@jupyter-widgets/controls",
     "model_module_version": "1.5.0",
     "model_name": "HTMLModel",
     "state": {
      "_dom_classes": [],
      "_model_module": "@jupyter-widgets/controls",
      "_model_module_version": "1.5.0",
      "_model_name": "HTMLModel",
      "_view_count": null,
      "_view_module": "@jupyter-widgets/controls",
      "_view_module_version": "1.5.0",
      "_view_name": "HTMLView",
      "description": "",
      "description_tooltip": null,
      "layout": "IPY_MODEL_c667293ed49c4033af596846d9ed72a2",
      "placeholder": "​",
      "style": "IPY_MODEL_e0850a656782429e9d375a19884bdad9",
      "value": " 100/100 [00:19&lt;00:00,  5.46it/s]"
     }
    },
    "7fa1093024d5436e8fe21500ae311faa": {
     "model_module": "@jupyter-widgets/controls",
     "model_module_version": "1.5.0",
     "model_name": "ProgressStyleModel",
     "state": {
      "_model_module": "@jupyter-widgets/controls",
      "_model_module_version": "1.5.0",
      "_model_name": "ProgressStyleModel",
      "_view_count": null,
      "_view_module": "@jupyter-widgets/base",
      "_view_module_version": "1.2.0",
      "_view_name": "StyleView",
      "bar_color": null,
      "description_width": ""
     }
    },
    "8192981e22b4464ba06e5fc412d7f57a": {
     "model_module": "@jupyter-widgets/base",
     "model_module_version": "1.2.0",
     "model_name": "LayoutModel",
     "state": {
      "_model_module": "@jupyter-widgets/base",
      "_model_module_version": "1.2.0",
      "_model_name": "LayoutModel",
      "_view_count": null,
      "_view_module": "@jupyter-widgets/base",
      "_view_module_version": "1.2.0",
      "_view_name": "LayoutView",
      "align_content": null,
      "align_items": null,
      "align_self": null,
      "border": null,
      "bottom": null,
      "display": null,
      "flex": null,
      "flex_flow": null,
      "grid_area": null,
      "grid_auto_columns": null,
      "grid_auto_flow": null,
      "grid_auto_rows": null,
      "grid_column": null,
      "grid_gap": null,
      "grid_row": null,
      "grid_template_areas": null,
      "grid_template_columns": null,
      "grid_template_rows": null,
      "height": null,
      "justify_content": null,
      "justify_items": null,
      "left": null,
      "margin": null,
      "max_height": null,
      "max_width": null,
      "min_height": null,
      "min_width": null,
      "object_fit": null,
      "object_position": null,
      "order": null,
      "overflow": null,
      "overflow_x": null,
      "overflow_y": null,
      "padding": null,
      "right": null,
      "top": null,
      "visibility": null,
      "width": null
     }
    },
    "82a8eff802aa4282880220d9e6839ec7": {
     "model_module": "@jupyter-widgets/base",
     "model_module_version": "1.2.0",
     "model_name": "LayoutModel",
     "state": {
      "_model_module": "@jupyter-widgets/base",
      "_model_module_version": "1.2.0",
      "_model_name": "LayoutModel",
      "_view_count": null,
      "_view_module": "@jupyter-widgets/base",
      "_view_module_version": "1.2.0",
      "_view_name": "LayoutView",
      "align_content": null,
      "align_items": null,
      "align_self": null,
      "border": null,
      "bottom": null,
      "display": null,
      "flex": null,
      "flex_flow": null,
      "grid_area": null,
      "grid_auto_columns": null,
      "grid_auto_flow": null,
      "grid_auto_rows": null,
      "grid_column": null,
      "grid_gap": null,
      "grid_row": null,
      "grid_template_areas": null,
      "grid_template_columns": null,
      "grid_template_rows": null,
      "height": null,
      "justify_content": null,
      "justify_items": null,
      "left": null,
      "margin": null,
      "max_height": null,
      "max_width": null,
      "min_height": null,
      "min_width": null,
      "object_fit": null,
      "object_position": null,
      "order": null,
      "overflow": null,
      "overflow_x": null,
      "overflow_y": null,
      "padding": null,
      "right": null,
      "top": null,
      "visibility": null,
      "width": null
     }
    },
    "83422542d5404af59144c45a207d227f": {
     "model_module": "@jupyter-widgets/base",
     "model_module_version": "1.2.0",
     "model_name": "LayoutModel",
     "state": {
      "_model_module": "@jupyter-widgets/base",
      "_model_module_version": "1.2.0",
      "_model_name": "LayoutModel",
      "_view_count": null,
      "_view_module": "@jupyter-widgets/base",
      "_view_module_version": "1.2.0",
      "_view_name": "LayoutView",
      "align_content": null,
      "align_items": null,
      "align_self": null,
      "border": null,
      "bottom": null,
      "display": null,
      "flex": null,
      "flex_flow": null,
      "grid_area": null,
      "grid_auto_columns": null,
      "grid_auto_flow": null,
      "grid_auto_rows": null,
      "grid_column": null,
      "grid_gap": null,
      "grid_row": null,
      "grid_template_areas": null,
      "grid_template_columns": null,
      "grid_template_rows": null,
      "height": null,
      "justify_content": null,
      "justify_items": null,
      "left": null,
      "margin": null,
      "max_height": null,
      "max_width": null,
      "min_height": null,
      "min_width": null,
      "object_fit": null,
      "object_position": null,
      "order": null,
      "overflow": null,
      "overflow_x": null,
      "overflow_y": null,
      "padding": null,
      "right": null,
      "top": null,
      "visibility": null,
      "width": null
     }
    },
    "8ac79bb78edc49e0a8ef6cdf6cff48f9": {
     "model_module": "@jupyter-widgets/controls",
     "model_module_version": "1.5.0",
     "model_name": "HTMLModel",
     "state": {
      "_dom_classes": [],
      "_model_module": "@jupyter-widgets/controls",
      "_model_module_version": "1.5.0",
      "_model_name": "HTMLModel",
      "_view_count": null,
      "_view_module": "@jupyter-widgets/controls",
      "_view_module_version": "1.5.0",
      "_view_name": "HTMLView",
      "description": "",
      "description_tooltip": null,
      "layout": "IPY_MODEL_8192981e22b4464ba06e5fc412d7f57a",
      "placeholder": "​",
      "style": "IPY_MODEL_d5e8678c0683468ab924e5c19a4b5cd2",
      "value": " 6/6 [00:18&lt;00:00,  2.45s/it]"
     }
    },
    "8b785258cc684d36b4125289cc7f2d81": {
     "model_module": "@jupyter-widgets/controls",
     "model_module_version": "1.5.0",
     "model_name": "DescriptionStyleModel",
     "state": {
      "_model_module": "@jupyter-widgets/controls",
      "_model_module_version": "1.5.0",
      "_model_name": "DescriptionStyleModel",
      "_view_count": null,
      "_view_module": "@jupyter-widgets/base",
      "_view_module_version": "1.2.0",
      "_view_name": "StyleView",
      "description_width": ""
     }
    },
    "97b1062d9b814aeca0c103813c0ee689": {
     "model_module": "@jupyter-widgets/base",
     "model_module_version": "1.2.0",
     "model_name": "LayoutModel",
     "state": {
      "_model_module": "@jupyter-widgets/base",
      "_model_module_version": "1.2.0",
      "_model_name": "LayoutModel",
      "_view_count": null,
      "_view_module": "@jupyter-widgets/base",
      "_view_module_version": "1.2.0",
      "_view_name": "LayoutView",
      "align_content": null,
      "align_items": null,
      "align_self": null,
      "border": null,
      "bottom": null,
      "display": null,
      "flex": null,
      "flex_flow": null,
      "grid_area": null,
      "grid_auto_columns": null,
      "grid_auto_flow": null,
      "grid_auto_rows": null,
      "grid_column": null,
      "grid_gap": null,
      "grid_row": null,
      "grid_template_areas": null,
      "grid_template_columns": null,
      "grid_template_rows": null,
      "height": null,
      "justify_content": null,
      "justify_items": null,
      "left": null,
      "margin": null,
      "max_height": null,
      "max_width": null,
      "min_height": null,
      "min_width": null,
      "object_fit": null,
      "object_position": null,
      "order": null,
      "overflow": null,
      "overflow_x": null,
      "overflow_y": null,
      "padding": null,
      "right": null,
      "top": null,
      "visibility": null,
      "width": null
     }
    },
    "9c8b4d61ac184c65b04c596caf6f803b": {
     "model_module": "@jupyter-widgets/controls",
     "model_module_version": "1.5.0",
     "model_name": "DescriptionStyleModel",
     "state": {
      "_model_module": "@jupyter-widgets/controls",
      "_model_module_version": "1.5.0",
      "_model_name": "DescriptionStyleModel",
      "_view_count": null,
      "_view_module": "@jupyter-widgets/base",
      "_view_module_version": "1.2.0",
      "_view_name": "StyleView",
      "description_width": ""
     }
    },
    "affa177a3f714a8d8f75a69d7b495425": {
     "model_module": "@jupyter-widgets/controls",
     "model_module_version": "1.5.0",
     "model_name": "FloatProgressModel",
     "state": {
      "_dom_classes": [],
      "_model_module": "@jupyter-widgets/controls",
      "_model_module_version": "1.5.0",
      "_model_name": "FloatProgressModel",
      "_view_count": null,
      "_view_module": "@jupyter-widgets/controls",
      "_view_module_version": "1.5.0",
      "_view_name": "ProgressView",
      "bar_style": "success",
      "description": "",
      "description_tooltip": null,
      "layout": "IPY_MODEL_3860bc5038974107ad7a4e62dd251e7e",
      "max": 100,
      "min": 0,
      "orientation": "horizontal",
      "style": "IPY_MODEL_b09fe9071e9f438997d097f668c38d9d",
      "value": 100
     }
    },
    "b09fe9071e9f438997d097f668c38d9d": {
     "model_module": "@jupyter-widgets/controls",
     "model_module_version": "1.5.0",
     "model_name": "ProgressStyleModel",
     "state": {
      "_model_module": "@jupyter-widgets/controls",
      "_model_module_version": "1.5.0",
      "_model_name": "ProgressStyleModel",
      "_view_count": null,
      "_view_module": "@jupyter-widgets/base",
      "_view_module_version": "1.2.0",
      "_view_name": "StyleView",
      "bar_color": null,
      "description_width": ""
     }
    },
    "b7e0afd9762346af840cc680eec30dd3": {
     "model_module": "@jupyter-widgets/base",
     "model_module_version": "1.2.0",
     "model_name": "LayoutModel",
     "state": {
      "_model_module": "@jupyter-widgets/base",
      "_model_module_version": "1.2.0",
      "_model_name": "LayoutModel",
      "_view_count": null,
      "_view_module": "@jupyter-widgets/base",
      "_view_module_version": "1.2.0",
      "_view_name": "LayoutView",
      "align_content": null,
      "align_items": null,
      "align_self": null,
      "border": null,
      "bottom": null,
      "display": null,
      "flex": null,
      "flex_flow": null,
      "grid_area": null,
      "grid_auto_columns": null,
      "grid_auto_flow": null,
      "grid_auto_rows": null,
      "grid_column": null,
      "grid_gap": null,
      "grid_row": null,
      "grid_template_areas": null,
      "grid_template_columns": null,
      "grid_template_rows": null,
      "height": null,
      "justify_content": null,
      "justify_items": null,
      "left": null,
      "margin": null,
      "max_height": null,
      "max_width": null,
      "min_height": null,
      "min_width": null,
      "object_fit": null,
      "object_position": null,
      "order": null,
      "overflow": null,
      "overflow_x": null,
      "overflow_y": null,
      "padding": null,
      "right": null,
      "top": null,
      "visibility": null,
      "width": null
     }
    },
    "bb842a38188841179bf0209e5f0a13fb": {
     "model_module": "@jupyter-widgets/base",
     "model_module_version": "1.2.0",
     "model_name": "LayoutModel",
     "state": {
      "_model_module": "@jupyter-widgets/base",
      "_model_module_version": "1.2.0",
      "_model_name": "LayoutModel",
      "_view_count": null,
      "_view_module": "@jupyter-widgets/base",
      "_view_module_version": "1.2.0",
      "_view_name": "LayoutView",
      "align_content": null,
      "align_items": null,
      "align_self": null,
      "border": null,
      "bottom": null,
      "display": null,
      "flex": null,
      "flex_flow": null,
      "grid_area": null,
      "grid_auto_columns": null,
      "grid_auto_flow": null,
      "grid_auto_rows": null,
      "grid_column": null,
      "grid_gap": null,
      "grid_row": null,
      "grid_template_areas": null,
      "grid_template_columns": null,
      "grid_template_rows": null,
      "height": null,
      "justify_content": null,
      "justify_items": null,
      "left": null,
      "margin": null,
      "max_height": null,
      "max_width": null,
      "min_height": null,
      "min_width": null,
      "object_fit": null,
      "object_position": null,
      "order": null,
      "overflow": null,
      "overflow_x": null,
      "overflow_y": null,
      "padding": null,
      "right": null,
      "top": null,
      "visibility": null,
      "width": null
     }
    },
    "bbe8a407ac40422984077a6934a51f4d": {
     "model_module": "@jupyter-widgets/controls",
     "model_module_version": "1.5.0",
     "model_name": "ProgressStyleModel",
     "state": {
      "_model_module": "@jupyter-widgets/controls",
      "_model_module_version": "1.5.0",
      "_model_name": "ProgressStyleModel",
      "_view_count": null,
      "_view_module": "@jupyter-widgets/base",
      "_view_module_version": "1.2.0",
      "_view_name": "StyleView",
      "bar_color": null,
      "description_width": ""
     }
    },
    "c0ffb23d512645feb10ddb32f2c42da3": {
     "model_module": "@jupyter-widgets/controls",
     "model_module_version": "1.5.0",
     "model_name": "DescriptionStyleModel",
     "state": {
      "_model_module": "@jupyter-widgets/controls",
      "_model_module_version": "1.5.0",
      "_model_name": "DescriptionStyleModel",
      "_view_count": null,
      "_view_module": "@jupyter-widgets/base",
      "_view_module_version": "1.2.0",
      "_view_name": "StyleView",
      "description_width": ""
     }
    },
    "c667293ed49c4033af596846d9ed72a2": {
     "model_module": "@jupyter-widgets/base",
     "model_module_version": "1.2.0",
     "model_name": "LayoutModel",
     "state": {
      "_model_module": "@jupyter-widgets/base",
      "_model_module_version": "1.2.0",
      "_model_name": "LayoutModel",
      "_view_count": null,
      "_view_module": "@jupyter-widgets/base",
      "_view_module_version": "1.2.0",
      "_view_name": "LayoutView",
      "align_content": null,
      "align_items": null,
      "align_self": null,
      "border": null,
      "bottom": null,
      "display": null,
      "flex": null,
      "flex_flow": null,
      "grid_area": null,
      "grid_auto_columns": null,
      "grid_auto_flow": null,
      "grid_auto_rows": null,
      "grid_column": null,
      "grid_gap": null,
      "grid_row": null,
      "grid_template_areas": null,
      "grid_template_columns": null,
      "grid_template_rows": null,
      "height": null,
      "justify_content": null,
      "justify_items": null,
      "left": null,
      "margin": null,
      "max_height": null,
      "max_width": null,
      "min_height": null,
      "min_width": null,
      "object_fit": null,
      "object_position": null,
      "order": null,
      "overflow": null,
      "overflow_x": null,
      "overflow_y": null,
      "padding": null,
      "right": null,
      "top": null,
      "visibility": null,
      "width": null
     }
    },
    "c7a6a2a8464742edbe8ed63263f32625": {
     "model_module": "@jupyter-widgets/controls",
     "model_module_version": "1.5.0",
     "model_name": "HTMLModel",
     "state": {
      "_dom_classes": [],
      "_model_module": "@jupyter-widgets/controls",
      "_model_module_version": "1.5.0",
      "_model_name": "HTMLModel",
      "_view_count": null,
      "_view_module": "@jupyter-widgets/controls",
      "_view_module_version": "1.5.0",
      "_view_name": "HTMLView",
      "description": "",
      "description_tooltip": null,
      "layout": "IPY_MODEL_83422542d5404af59144c45a207d227f",
      "placeholder": "​",
      "style": "IPY_MODEL_c0ffb23d512645feb10ddb32f2c42da3",
      "value": "Loading pipeline components...: 100%"
     }
    },
    "cc6e42d705b14829afbe8a9b4f1a4dfc": {
     "model_module": "@jupyter-widgets/controls",
     "model_module_version": "1.5.0",
     "model_name": "FloatProgressModel",
     "state": {
      "_dom_classes": [],
      "_model_module": "@jupyter-widgets/controls",
      "_model_module_version": "1.5.0",
      "_model_name": "FloatProgressModel",
      "_view_count": null,
      "_view_module": "@jupyter-widgets/controls",
      "_view_module_version": "1.5.0",
      "_view_name": "ProgressView",
      "bar_style": "success",
      "description": "",
      "description_tooltip": null,
      "layout": "IPY_MODEL_d4f45122882e4118b89c266a90ac1887",
      "max": 100,
      "min": 0,
      "orientation": "horizontal",
      "style": "IPY_MODEL_7fa1093024d5436e8fe21500ae311faa",
      "value": 100
     }
    },
    "cecfeef9ebdf4ef198f86477ba3bdbfd": {
     "model_module": "@jupyter-widgets/controls",
     "model_module_version": "1.5.0",
     "model_name": "HBoxModel",
     "state": {
      "_dom_classes": [],
      "_model_module": "@jupyter-widgets/controls",
      "_model_module_version": "1.5.0",
      "_model_name": "HBoxModel",
      "_view_count": null,
      "_view_module": "@jupyter-widgets/controls",
      "_view_module_version": "1.5.0",
      "_view_name": "HBoxView",
      "box_style": "",
      "children": [
       "IPY_MODEL_dff52bd4c0904d2fbb78d122141333e2",
       "IPY_MODEL_cc6e42d705b14829afbe8a9b4f1a4dfc",
       "IPY_MODEL_406160a7a51e4b88b1324c56bbd28b6d"
      ],
      "layout": "IPY_MODEL_f4f682956e5e4d19bc43e590ae634fec"
     }
    },
    "d4f45122882e4118b89c266a90ac1887": {
     "model_module": "@jupyter-widgets/base",
     "model_module_version": "1.2.0",
     "model_name": "LayoutModel",
     "state": {
      "_model_module": "@jupyter-widgets/base",
      "_model_module_version": "1.2.0",
      "_model_name": "LayoutModel",
      "_view_count": null,
      "_view_module": "@jupyter-widgets/base",
      "_view_module_version": "1.2.0",
      "_view_name": "LayoutView",
      "align_content": null,
      "align_items": null,
      "align_self": null,
      "border": null,
      "bottom": null,
      "display": null,
      "flex": null,
      "flex_flow": null,
      "grid_area": null,
      "grid_auto_columns": null,
      "grid_auto_flow": null,
      "grid_auto_rows": null,
      "grid_column": null,
      "grid_gap": null,
      "grid_row": null,
      "grid_template_areas": null,
      "grid_template_columns": null,
      "grid_template_rows": null,
      "height": null,
      "justify_content": null,
      "justify_items": null,
      "left": null,
      "margin": null,
      "max_height": null,
      "max_width": null,
      "min_height": null,
      "min_width": null,
      "object_fit": null,
      "object_position": null,
      "order": null,
      "overflow": null,
      "overflow_x": null,
      "overflow_y": null,
      "padding": null,
      "right": null,
      "top": null,
      "visibility": null,
      "width": null
     }
    },
    "d5e8678c0683468ab924e5c19a4b5cd2": {
     "model_module": "@jupyter-widgets/controls",
     "model_module_version": "1.5.0",
     "model_name": "DescriptionStyleModel",
     "state": {
      "_model_module": "@jupyter-widgets/controls",
      "_model_module_version": "1.5.0",
      "_model_name": "DescriptionStyleModel",
      "_view_count": null,
      "_view_module": "@jupyter-widgets/base",
      "_view_module_version": "1.2.0",
      "_view_name": "StyleView",
      "description_width": ""
     }
    },
    "dff52bd4c0904d2fbb78d122141333e2": {
     "model_module": "@jupyter-widgets/controls",
     "model_module_version": "1.5.0",
     "model_name": "HTMLModel",
     "state": {
      "_dom_classes": [],
      "_model_module": "@jupyter-widgets/controls",
      "_model_module_version": "1.5.0",
      "_model_name": "HTMLModel",
      "_view_count": null,
      "_view_module": "@jupyter-widgets/controls",
      "_view_module_version": "1.5.0",
      "_view_name": "HTMLView",
      "description": "",
      "description_tooltip": null,
      "layout": "IPY_MODEL_305d5f5cc27847e3b48e276780795e1f",
      "placeholder": "​",
      "style": "IPY_MODEL_5066d8a0b43149d49c5402be45ad647c",
      "value": "100%"
     }
    },
    "e0850a656782429e9d375a19884bdad9": {
     "model_module": "@jupyter-widgets/controls",
     "model_module_version": "1.5.0",
     "model_name": "DescriptionStyleModel",
     "state": {
      "_model_module": "@jupyter-widgets/controls",
      "_model_module_version": "1.5.0",
      "_model_name": "DescriptionStyleModel",
      "_view_count": null,
      "_view_module": "@jupyter-widgets/base",
      "_view_module_version": "1.2.0",
      "_view_name": "StyleView",
      "description_width": ""
     }
    },
    "f292717467f14a2ea8744a8fb0d7e714": {
     "model_module": "@jupyter-widgets/controls",
     "model_module_version": "1.5.0",
     "model_name": "HTMLModel",
     "state": {
      "_dom_classes": [],
      "_model_module": "@jupyter-widgets/controls",
      "_model_module_version": "1.5.0",
      "_model_name": "HTMLModel",
      "_view_count": null,
      "_view_module": "@jupyter-widgets/controls",
      "_view_module_version": "1.5.0",
      "_view_name": "HTMLView",
      "description": "",
      "description_tooltip": null,
      "layout": "IPY_MODEL_82a8eff802aa4282880220d9e6839ec7",
      "placeholder": "​",
      "style": "IPY_MODEL_8b785258cc684d36b4125289cc7f2d81",
      "value": "100%"
     }
    },
    "f4f682956e5e4d19bc43e590ae634fec": {
     "model_module": "@jupyter-widgets/base",
     "model_module_version": "1.2.0",
     "model_name": "LayoutModel",
     "state": {
      "_model_module": "@jupyter-widgets/base",
      "_model_module_version": "1.2.0",
      "_model_name": "LayoutModel",
      "_view_count": null,
      "_view_module": "@jupyter-widgets/base",
      "_view_module_version": "1.2.0",
      "_view_name": "LayoutView",
      "align_content": null,
      "align_items": null,
      "align_self": null,
      "border": null,
      "bottom": null,
      "display": null,
      "flex": null,
      "flex_flow": null,
      "grid_area": null,
      "grid_auto_columns": null,
      "grid_auto_flow": null,
      "grid_auto_rows": null,
      "grid_column": null,
      "grid_gap": null,
      "grid_row": null,
      "grid_template_areas": null,
      "grid_template_columns": null,
      "grid_template_rows": null,
      "height": null,
      "justify_content": null,
      "justify_items": null,
      "left": null,
      "margin": null,
      "max_height": null,
      "max_width": null,
      "min_height": null,
      "min_width": null,
      "object_fit": null,
      "object_position": null,
      "order": null,
      "overflow": null,
      "overflow_x": null,
      "overflow_y": null,
      "padding": null,
      "right": null,
      "top": null,
      "visibility": null,
      "width": null
     }
    }
   }
  }
 },
 "nbformat": 4,
 "nbformat_minor": 5
}
